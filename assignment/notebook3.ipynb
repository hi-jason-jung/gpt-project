{
 "cells": [
  {
   "cell_type": "code",
   "execution_count": null,
   "id": "63caa8f9",
   "metadata": {},
   "outputs": [],
   "source": [
    "# Challenge 3 - 2025/05/29\n",
    "# - Implement an LCEL chain with a memory that uses one of the memory classes we learned about.\n",
    "# - The chain should take the title of a movie and reply with three emojis that represent the movie. (i.e \"Top Gun\" -> \"🛩️👨‍✈️🔥\". \"The Godfather\" -> \"👨‍👨‍👦🔫🍝 \").\n",
    "# - Provide examples to the chain using FewShotPromptTemplate or FewShotChatMessagePromptTemplate to make sure it always replies with three emojis.\n",
    "# - To check that the memory is working ask the chain about two movies and then in another cell ask the chain to tell you what is the movie you asked about first."
   ]
  },
  {
   "cell_type": "code",
   "execution_count": 1,
   "id": "e8c16881",
   "metadata": {},
   "outputs": [],
   "source": [
    "from langchain.memory import ConversationSummaryBufferMemory\n",
    "from langchain.chat_models import ChatOpenAI\n",
    "from langchain.schema.runnable import RunnablePassthrough\n",
    "from langchain.chains import ConversationChain\n",
    "from langchain.prompts import (\n",
    "    ChatPromptTemplate,\n",
    "    MessagesPlaceholder,\n",
    "    FewShotPromptTemplate,\n",
    "    PromptTemplate,\n",
    ")\n",
    "\n",
    "llm = ChatOpenAI(temperature=0.1)\n",
    "\n",
    "memory = ConversationSummaryBufferMemory(\n",
    "    llm=llm,\n",
    "    max_token_limit=120,\n",
    "    return_messages=True,\n",
    ")\n",
    "\n",
    "examples = [\n",
    "    {\"question\": \"Top Gun\", \"answer\": \"🛩️👨‍✈️🔥\"},\n",
    "    {\"question\": \"The Godfather\", \"answer\": \"👨‍👨‍👦🔫🍝\"},\n",
    "]\n",
    "\n",
    "prompt = FewShotPromptTemplate(\n",
    "    examples=examples,\n",
    "    example_prompt=PromptTemplate(\n",
    "        input_variables=[\"question\", \"answer\"],\n",
    "        template=\"question: {question}\\nanswer: {answer}\",\n",
    "    ),\n",
    "    suffix=\"question: {movie}\\nanswer:\",\n",
    "    input_variables=[\"movie\"],\n",
    ")\n",
    "\n",
    "prompt = ChatPromptTemplate.from_messages(\n",
    "    [\n",
    "        (\n",
    "            \"system\",\n",
    "            \"You are an AI that responds to a user's question about the name of a movie with three emojis related to it.\",\n",
    "        ),\n",
    "        MessagesPlaceholder(variable_name=\"history\"),\n",
    "        (\"human\", \"{question}\"),\n",
    "    ]\n",
    ")\n",
    "\n",
    "\n",
    "def load_memory(_):\n",
    "    return memory.load_memory_variables({})[\"history\"]\n",
    "\n",
    "\n",
    "chain = RunnablePassthrough.assign(history=load_memory) | prompt | llm\n",
    "\n",
    "\n",
    "def invoke_chain(question):\n",
    "    result = chain.invoke({\"question\": question})\n",
    "    memory.save_context(\n",
    "        {\"question\": question},\n",
    "        {\"answer\": result.content},\n",
    "    )\n",
    "    print(result.content)"
   ]
  },
  {
   "cell_type": "code",
   "execution_count": 2,
   "id": "c526434b",
   "metadata": {},
   "outputs": [
    {
     "name": "stdout",
     "output_type": "stream",
     "text": [
      "🦸‍♂️💥🌎\n"
     ]
    }
   ],
   "source": [
    "invoke_chain(\"The Avengers\")"
   ]
  },
  {
   "cell_type": "code",
   "execution_count": 3,
   "id": "5ac0252f",
   "metadata": {},
   "outputs": [
    {
     "name": "stdout",
     "output_type": "stream",
     "text": [
      "⚡🧙‍♂️🏰\n"
     ]
    }
   ],
   "source": [
    "invoke_chain(\"Harry potter\")"
   ]
  },
  {
   "cell_type": "code",
   "execution_count": null,
   "id": "7065d587",
   "metadata": {},
   "outputs": [
    {
     "name": "stdout",
     "output_type": "stream",
     "text": [
      "\n",
      "\n",
      "\u001b[1m> Entering new ConversationChain chain...\u001b[0m\n",
      "Prompt after formatting:\n",
      "\u001b[32;1m\u001b[1;3mThe following is a friendly conversation between a human and an AI. The AI is talkative and provides lots of specific details from its context. If the AI does not know the answer to a question, it truthfully says it does not know.\n",
      "\n",
      "Current conversation:\n",
      "[SystemMessage(content='The human mentions The Avengers and Harry Potter to the AI, who responds with emojis representing superheroes and magic. The AI then provides a detailed description of \"The Avengers,\" explaining the plot and characters in the film.'), HumanMessage(content='tell me what is the movie I asked first.'), AIMessage(content='The movie you asked first is \"The Avengers.\" It is a superhero film based on the Marvel Comics superhero team of the same name. The movie features iconic characters such as Iron Man, Captain America, Thor, Hulk, Black Widow, and Hawkeye, who come together to save the world from a powerful threat. The film was directed by Joss Whedon and was released in 2012.')]\n",
      "Human: tell me what is the movie I asked first. Please just tell me the only name.\n",
      "AI:\u001b[0m\n",
      "\n",
      "\u001b[1m> Finished chain.\u001b[0m\n"
     ]
    },
    {
     "data": {
      "text/plain": [
       "'The movie you asked first is \"The Avengers.\"'"
      ]
     },
     "execution_count": 8,
     "metadata": {},
     "output_type": "execute_result"
    }
   ],
   "source": [
    "conversation = ConversationChain(llm=llm, memory=memory, verbose=True)\n",
    "\n",
    "conversation.predict(\n",
    "    input=\"tell me what is the movie I asked first. Please just tell me the only name.\"\n",
    ")"
   ]
  }
 ],
 "metadata": {
  "kernelspec": {
   "display_name": "env",
   "language": "python",
   "name": "python3"
  },
  "language_info": {
   "codemirror_mode": {
    "name": "ipython",
    "version": 3
   },
   "file_extension": ".py",
   "mimetype": "text/x-python",
   "name": "python",
   "nbconvert_exporter": "python",
   "pygments_lexer": "ipython3",
   "version": "3.11.9"
  }
 },
 "nbformat": 4,
 "nbformat_minor": 5
}
