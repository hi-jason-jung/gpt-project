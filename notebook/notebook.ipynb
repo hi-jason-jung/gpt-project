{
 "cells": [
  {
   "cell_type": "code",
   "execution_count": 1,
   "id": "c041bf71",
   "metadata": {},
   "outputs": [],
   "source": [
    "# Challenge 1 - 2025/05/26\n",
    "# - Make a chain that is specialized in writing Haikus about programming languages and another one that is specialized in explaining Haikus.\n",
    "# - Chain the two chains together using LCEL.\n",
    "# - The final chain should receive the name of a programming language and it should reply with the Haiku and its explanation.\n",
    "# - Use \"gpt-3.5-turbo\" as the model and ChatPromptTemplate for your prompts.\n",
    "\n",
    "from langchain.chat_models import ChatOpenAI\n",
    "from langchain.prompts import ChatPromptTemplate\n",
    "from langchain.callbacks import StreamingStdOutCallbackHandler\n",
    "\n",
    "chat = ChatOpenAI(\n",
    "    model=\"gpt-3.5-turbo\",\n",
    "    temperature=0.1,\n",
    "    streaming=True,\n",
    "    callbacks=[\n",
    "        StreamingStdOutCallbackHandler(),\n",
    "    ]\n",
    ")\n",
    "\n",
    "haikus_prompt = ChatPromptTemplate.from_messages(\n",
    "    [\n",
    "        (\n",
    "            \"system\",\n",
    "            \"You are an expert that is specialized in writing Haikus about programming languages.\",\n",
    "        ),\n",
    "        (\"human\", \"I want to know haikus about {programming_language}\"),\n",
    "    ]\n",
    ")\n",
    "\n",
    "haikus_chain = haikus_prompt | chat"
   ]
  },
  {
   "cell_type": "code",
   "execution_count": 2,
   "id": "cc6f8ee8",
   "metadata": {},
   "outputs": [
    {
     "name": "stdout",
     "output_type": "stream",
     "text": [
      "Indentation key,\n",
      "Pythonic simplicity,\n",
      "Guido's legacy.This haiku beautifully captures the essence of Python programming language. The first line refers to the importance of indentation in Python, which is a key feature that enforces clean and readable code. The second line highlights the simplicity and elegance of Python syntax, often described as \"Pythonic.\" Finally, the mention of Guido's legacy in the last line pays tribute to Guido van Rossum, the creator of Python. Overall, this haiku celebrates the beauty and impact of Python in just three succinct lines."
     ]
    },
    {
     "data": {
      "text/plain": [
       "AIMessageChunk(content='This haiku beautifully captures the essence of Python programming language. The first line refers to the importance of indentation in Python, which is a key feature that enforces clean and readable code. The second line highlights the simplicity and elegance of Python syntax, often described as \"Pythonic.\" Finally, the mention of Guido\\'s legacy in the last line pays tribute to Guido van Rossum, the creator of Python. Overall, this haiku celebrates the beauty and impact of Python in just three succinct lines.')"
      ]
     },
     "execution_count": 2,
     "metadata": {},
     "output_type": "execute_result"
    }
   ],
   "source": [
    "reviewer_prompt = ChatPromptTemplate.from_messages(\n",
    "    [\n",
    "        (\"system\", \"You are an expert that explains haikus.\"),\n",
    "        (\"human\", \"{haikus}\")\n",
    "    ]\n",
    ")\n",
    "\n",
    "reviewer_chain = reviewer_prompt | chat\n",
    "\n",
    "final_chain = {\"haikus\": haikus_chain} | reviewer_chain\n",
    "\n",
    "final_chain.invoke({\"programming_language\": \"python\"})"
   ]
  }
 ],
 "metadata": {
  "kernelspec": {
   "display_name": "env",
   "language": "python",
   "name": "python3"
  },
  "language_info": {
   "codemirror_mode": {
    "name": "ipython",
    "version": 3
   },
   "file_extension": ".py",
   "mimetype": "text/x-python",
   "name": "python",
   "nbconvert_exporter": "python",
   "pygments_lexer": "ipython3",
   "version": "3.11.9"
  }
 },
 "nbformat": 4,
 "nbformat_minor": 5
}
