{
 "cells": [
  {
   "cell_type": "code",
   "execution_count": 1,
   "id": "598f4cf5",
   "metadata": {},
   "outputs": [
    {
     "name": "stdout",
     "output_type": "stream",
     "text": [
      "\n",
      "\n",
      "\u001b[1m> Entering new AgentExecutor chain...\u001b[0m\n",
      "\u001b[32;1m\u001b[1;3m\n",
      "Invoking: `StockMarketSymbolSearchTool` with `{'query': 'Cloudflare stock'}`\n",
      "\n",
      "\n",
      "\u001b[0m\u001b[36;1m\u001b[1;3mCloudflare Stock: Strong Key Metrics Driving The Rise In Share Price. Cloudflare is delivering strong revenue growth, driven by enterprise customers and large contracts, especially for its Workers developer platform. The company's revamped sales strategy, focusing on la... Real-time Cloudflare stock price (NYSE: NET) plus other valuable data points like day range, year, stock analyst insights, related news and more. Get Cloudflare Inc (NET) real-time stock quotes, news, price and financial information from Reuters to inform your trading and investments ... Cloudflare Inc NET. Official Data Partner. Latest ... Cloudflare's stock has recently been incredibly volatile, ranging between approximately $30 and $80. The significant price movements have been in response to news and events affecting the broader tech industry. Cloudflare operates in the highly competitive cybersecurity industry, characterized by rapid technological change, intense competition ... Cloudflare, Inc. is a connectivity cloud company. Its full suite of products consists of its website and application services to deliver security, performance, and reliability for an organization's websites, applications, and application programming interfaces (APIs); its secure access service edge (SASE) platform, which contains its suite of Zero Trust and network services solutions to help ...\u001b[0m\u001b[32;1m\u001b[1;3mCloudflare's stock symbol is NET and it is listed on the New York Stock Exchange (NYSE). Cloudflare is a connectivity cloud company that offers website and application services for security, performance, and reliability.\n",
      "\n",
      "Cloudflare's stock has been experiencing significant volatility, with price movements ranging between approximately $30 and $80. This volatility is influenced by news and events affecting the broader tech industry.\n",
      "\n",
      "To analyze if Cloudflare is a potential good investment, we need to consider various factors such as the company's financial performance, growth prospects, competitive landscape, and industry trends. It's important to conduct a thorough analysis and consider consulting with a financial advisor before making any investment decisions.\u001b[0m\n",
      "\n",
      "\u001b[1m> Finished chain.\u001b[0m\n"
     ]
    },
    {
     "data": {
      "text/plain": [
       "{'input': \"Give me information on Cloudflare's stock and help me analyze if it's a potential good investment. Also tell me what symbol does the stock have.\",\n",
       " 'output': \"Cloudflare's stock symbol is NET and it is listed on the New York Stock Exchange (NYSE). Cloudflare is a connectivity cloud company that offers website and application services for security, performance, and reliability.\\n\\nCloudflare's stock has been experiencing significant volatility, with price movements ranging between approximately $30 and $80. This volatility is influenced by news and events affecting the broader tech industry.\\n\\nTo analyze if Cloudflare is a potential good investment, we need to consider various factors such as the company's financial performance, growth prospects, competitive landscape, and industry trends. It's important to conduct a thorough analysis and consider consulting with a financial advisor before making any investment decisions.\"}"
      ]
     },
     "execution_count": 1,
     "metadata": {},
     "output_type": "execute_result"
    }
   ],
   "source": [
    "from typing import Any, Type\n",
    "from langchain.chat_models import ChatOpenAI\n",
    "from langchain.tools import BaseTool\n",
    "from pydantic import BaseModel, Field\n",
    "from langchain.agents import initialize_agent, AgentType\n",
    "from langchain.utilities import DuckDuckGoSearchAPIWrapper\n",
    "\n",
    "llm = ChatOpenAI(temperature=0.1)\n",
    "\n",
    "\n",
    "class StockMarketSymbolSearchToolArgsSchema(BaseModel):\n",
    "    query: str = Field(\n",
    "        description=\"The query you will search for.Example query: Stock Market Symbol for Apple Company\"\n",
    "    )\n",
    "\n",
    "\n",
    "class StockMarketSymbolSearchTool(BaseTool):\n",
    "    name = \"StockMarketSymbolSearchTool\"\n",
    "    description = \"\"\"\n",
    "    Use this tool to find the stock market symbol for a company.\n",
    "    It takes a query as an argument.\n",
    "    \n",
    "    \"\"\"\n",
    "    args_schema: Type[StockMarketSymbolSearchToolArgsSchema] = (\n",
    "        StockMarketSymbolSearchToolArgsSchema\n",
    "    )\n",
    "\n",
    "    def _run(self, query):\n",
    "        ddg = DuckDuckGoSearchAPIWrapper()\n",
    "        return ddg.run(query)\n",
    "\n",
    "\n",
    "agent = initialize_agent(\n",
    "    llm=llm,\n",
    "    verbose=True,\n",
    "    agent=AgentType.OPENAI_FUNCTIONS,\n",
    "    handle_parsing_errors=True,\n",
    "    tools=[\n",
    "        StockMarketSymbolSearchTool(),\n",
    "    ],\n",
    ")\n",
    "\n",
    "prompt = \"Give me information on Cloudflare's stock and help me analyze if it's a potential good investment. Also tell me what symbol does the stock have.\"\n",
    "\n",
    "agent.invoke(prompt)"
   ]
  }
 ],
 "metadata": {
  "kernelspec": {
   "display_name": "env",
   "language": "python",
   "name": "python3"
  },
  "language_info": {
   "codemirror_mode": {
    "name": "ipython",
    "version": 3
   },
   "file_extension": ".py",
   "mimetype": "text/x-python",
   "name": "python",
   "nbconvert_exporter": "python",
   "pygments_lexer": "ipython3",
   "version": "3.11.9"
  }
 },
 "nbformat": 4,
 "nbformat_minor": 5
}
