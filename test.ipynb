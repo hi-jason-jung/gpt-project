{
 "cells": [
  {
   "cell_type": "code",
   "execution_count": null,
   "id": "f86276bc",
   "metadata": {},
   "outputs": [],
   "source": [
    "from langchain.utilities.duckduckgo_search import DuckDuckGoSearchAPIWrapper\n",
    "import yfinance\n",
    "import json\n",
    "\n",
    "\n",
    "def get_ticker(inputs):\n",
    "    ddg = DuckDuckGoSearchAPIWrapper()\n",
    "    company_name = inputs[\"company_name\"]\n",
    "    return ddg.run(f\"Ticker symbol of {company_name}\")\n",
    "\n",
    "\n",
    "def get_income_statement(inputs):\n",
    "    ticker = inputs[\"ticker\"]\n",
    "    stock = yfinance.Ticker(ticker)\n",
    "    return json.dumps(stock.income_stmt.to_json())\n",
    "\n",
    "\n",
    "def get_balance_sheet(inputs):\n",
    "    ticker = inputs[\"ticker\"]\n",
    "    stock = yfinance.Ticker(ticker)\n",
    "    return json.dumps(stock.balance_sheet.to_json())\n",
    "\n",
    "\n",
    "def get_daily_stock_performance(inputs):\n",
    "    ticker = inputs[\"ticker\"]\n",
    "    stock = yfinance.Ticker(ticker)\n",
    "    return json.dumps(stock.history(period=\"3mo\").to_json())\n",
    "\n",
    "\n",
    "functions_map = {\n",
    "    \"get_ticker\": get_ticker,\n",
    "    \"get_income_statement\": get_income_statement,\n",
    "    \"get_balance_sheet\": get_balance_sheet,\n",
    "    \"get_daily_stock_performance\": get_daily_stock_performance,\n",
    "}\n",
    "\n",
    "\n",
    "functions = [\n",
    "    {\n",
    "        \"type\": \"function\",\n",
    "        \"function\": {\n",
    "            \"name\": \"get_ticker\",\n",
    "            \"description\": \"Given the name of a company returns its ticker symbol\",\n",
    "            \"parameters\": {\n",
    "                \"type\": \"object\",\n",
    "                \"properties\": {\n",
    "                    \"company_name\": {\n",
    "                        \"type\": \"string\",\n",
    "                        \"description\": \"The name of the company\",\n",
    "                    }\n",
    "                },\n",
    "                \"required\": [\"company_name\"],\n",
    "            },\n",
    "        },\n",
    "    },\n",
    "    {\n",
    "        \"type\": \"function\",\n",
    "        \"function\": {\n",
    "            \"name\": \"get_income_statement\",\n",
    "            \"description\": \"Given a ticker symbol (i.e AAPL) returns the company's income statement.\",\n",
    "            \"parameters\": {\n",
    "                \"type\": \"object\",\n",
    "                \"properties\": {\n",
    "                    \"ticker\": {\n",
    "                        \"type\": \"string\",\n",
    "                        \"description\": \"Ticker symbol of the company\",\n",
    "                    },\n",
    "                },\n",
    "                \"required\": [\"ticker\"],\n",
    "            },\n",
    "        },\n",
    "    },\n",
    "    {\n",
    "        \"type\": \"function\",\n",
    "        \"function\": {\n",
    "            \"name\": \"get_balance_sheet\",\n",
    "            \"description\": \"Given a ticker symbol (i.e AAPL) returns the company's balance sheet.\",\n",
    "            \"parameters\": {\n",
    "                \"type\": \"object\",\n",
    "                \"properties\": {\n",
    "                    \"ticker\": {\n",
    "                        \"type\": \"string\",\n",
    "                        \"description\": \"Ticker symbol of the company\",\n",
    "                    },\n",
    "                },\n",
    "                \"required\": [\"ticker\"],\n",
    "            },\n",
    "        },\n",
    "    },\n",
    "    {\n",
    "        \"type\": \"function\",\n",
    "        \"function\": {\n",
    "            \"name\": \"get_daily_stock_performance\",\n",
    "            \"description\": \"Given a ticker symbol (i.e AAPL) returns the performance of the stock for the last 100 days.\",\n",
    "            \"parameters\": {\n",
    "                \"type\": \"object\",\n",
    "                \"properties\": {\n",
    "                    \"ticker\": {\n",
    "                        \"type\": \"string\",\n",
    "                        \"description\": \"Ticker symbol of the company\",\n",
    "                    },\n",
    "                },\n",
    "                \"required\": [\"ticker\"],\n",
    "            },\n",
    "        },\n",
    "    },\n",
    "]"
   ]
  },
  {
   "cell_type": "code",
   "execution_count": null,
   "id": "91380b88",
   "metadata": {},
   "outputs": [],
   "source": [
    "import openai as client\n",
    "\n",
    "assistant_id = \"asst_n0oq9SJxSpjOJvh6bouZfmDp\"\n",
    "\n",
    "# assistant = client.beta.assistants.create(\n",
    "#     name=\"Investor Assistant\",\n",
    "#     instructions=\"You help users do research on publicly traded companies and you help users decide if they should buy the stock or not.\",\n",
    "#     model=\"gpt-4-1106-preview\",\n",
    "#     tools=functions,\n",
    "# )"
   ]
  },
  {
   "cell_type": "code",
   "execution_count": 5,
   "id": "81dc077b",
   "metadata": {},
   "outputs": [
    {
     "name": "stderr",
     "output_type": "stream",
     "text": [
      "C:\\Users\\dtq10\\AppData\\Local\\Temp\\ipykernel_24308\\3839882613.py:5: DeprecationWarning: The Assistants API is deprecated in favor of the Responses API\n",
      "  thread = openai.beta.threads.create()\n",
      "C:\\Users\\dtq10\\AppData\\Local\\Temp\\ipykernel_24308\\3839882613.py:8: DeprecationWarning: The Assistants API is deprecated in favor of the Responses API\n",
      "  openai.beta.threads.messages.create(\n"
     ]
    },
    {
     "data": {
      "text/plain": [
       "Message(id='msg_psUY2JIBR86qBZfYEj3BGqRp', assistant_id=None, attachments=[], completed_at=None, content=[TextContentBlock(text=Text(annotations=[], value='I want to know if the Salesforce stock is a good buy'), type='text')], created_at=1749916330, incomplete_at=None, incomplete_details=None, metadata={}, object='thread.message', role='user', run_id=None, status=None, thread_id='thread_47J7hC8eImg7oaIqyUod8t9Q')"
      ]
     },
     "execution_count": 5,
     "metadata": {},
     "output_type": "execute_result"
    }
   ],
   "source": [
    "import openai\n",
    "\n",
    "\n",
    "# Thread 먼저 생성\n",
    "thread = openai.beta.threads.create()\n",
    "\n",
    "# 메시지를 따로 추가\n",
    "openai.beta.threads.messages.create(\n",
    "    thread_id=thread.id,\n",
    "    role=\"user\",\n",
    "    content=\"I want to know if the Salesforce stock is a good buy\",\n",
    ")"
   ]
  },
  {
   "cell_type": "code",
   "execution_count": 6,
   "id": "5a5d5406",
   "metadata": {},
   "outputs": [
    {
     "name": "stderr",
     "output_type": "stream",
     "text": [
      "C:\\Users\\dtq10\\AppData\\Local\\Temp\\ipykernel_24308\\1531244780.py:1: DeprecationWarning: The Assistants API is deprecated in favor of the Responses API\n",
      "  run = client.beta.threads.runs.create(\n"
     ]
    },
    {
     "data": {
      "text/plain": [
       "Run(id='run_OOvvUO143VYKoNer5qTCFbUw', assistant_id='asst_n0oq9SJxSpjOJvh6bouZfmDp', cancelled_at=None, completed_at=None, created_at=1749916433, expires_at=1749917033, failed_at=None, incomplete_details=None, instructions='You help users do research on publicly traded companies and you help users decide if they should buy the stock or not.', last_error=None, max_completion_tokens=None, max_prompt_tokens=None, metadata={}, model='gpt-4-1106-preview', object='thread.run', parallel_tool_calls=True, required_action=None, response_format='auto', started_at=None, status='queued', thread_id='thread_47J7hC8eImg7oaIqyUod8t9Q', tool_choice='auto', tools=[FunctionTool(function=FunctionDefinition(name='get_ticker', description='Given the name of a company returns its ticker symbol', parameters={'type': 'object', 'properties': {'company_name': {'type': 'string', 'description': 'The name of the company'}}, 'required': ['company_name']}, strict=False), type='function'), FunctionTool(function=FunctionDefinition(name='get_income_statement', description=\"Given a ticker symbol (i.e AAPL) returns the company's income statement.\", parameters={'type': 'object', 'properties': {'ticker': {'type': 'string', 'description': 'Ticker symbol of the company'}}, 'required': ['ticker']}, strict=False), type='function'), FunctionTool(function=FunctionDefinition(name='get_balance_sheet', description=\"Given a ticker symbol (i.e AAPL) returns the company's balance sheet.\", parameters={'type': 'object', 'properties': {'ticker': {'type': 'string', 'description': 'Ticker symbol of the company'}}, 'required': ['ticker']}, strict=False), type='function'), FunctionTool(function=FunctionDefinition(name='get_daily_stock_performance', description='Given a ticker symbol (i.e AAPL) returns the performance of the stock for the last 100 days.', parameters={'type': 'object', 'properties': {'ticker': {'type': 'string', 'description': 'Ticker symbol of the company'}}, 'required': ['ticker']}, strict=False), type='function')], truncation_strategy=TruncationStrategy(type='auto', last_messages=None), usage=None, temperature=1.0, top_p=1.0, tool_resources={}, reasoning_effort=None)"
      ]
     },
     "execution_count": 6,
     "metadata": {},
     "output_type": "execute_result"
    }
   ],
   "source": [
    "run = client.beta.threads.runs.create(\n",
    "    thread_id=thread.id,\n",
    "    assistant_id=assistant_id,\n",
    ")\n",
    "run"
   ]
  },
  {
   "cell_type": "code",
   "execution_count": 7,
   "id": "14af6d2f",
   "metadata": {},
   "outputs": [],
   "source": [
    "def get_run(run_id, thread_id):\n",
    "    return client.beta.threads.runs.retrieve(\n",
    "        run_id=run_id,\n",
    "        thread_id=thread_id,\n",
    "    )\n",
    "\n",
    "\n",
    "def send_message(thread_id, content):\n",
    "    return client.beta.threads.messages.create(\n",
    "        thread_id=thread_id, role=\"user\", content=content\n",
    "    )\n",
    "\n",
    "\n",
    "def get_messages(thread_id):\n",
    "    messages = client.beta.threads.messages.list(thread_id=thread_id)\n",
    "    messages = list(messages)\n",
    "    messages.reverse()\n",
    "    for message in messages:\n",
    "        print(f\"{message.role}: {message.content[0].text.value}\")\n",
    "\n",
    "\n",
    "def get_tool_outputs(run_id, thread_id):\n",
    "    run = get_run(run_id, thread_id)\n",
    "    outputs = []\n",
    "    for action in run.required_action.submit_tool_outputs.tool_calls:\n",
    "        action_id = action.id\n",
    "        function = action.function\n",
    "        print(f\"Calling function: {function.name} with arg {function.arguments}\")\n",
    "        outputs.append(\n",
    "            {\n",
    "                \"output\": functions_map[function.name](json.loads(function.arguments)),\n",
    "                \"tool_call_id\": action_id,\n",
    "            }\n",
    "        )\n",
    "    return outputs\n",
    "\n",
    "\n",
    "def submit_tool_outputs(run_id, thread_id):\n",
    "    outpus = get_tool_outputs(run_id, thread_id)\n",
    "    return client.beta.threads.runs.submit_tool_outputs(\n",
    "        run_id=run_id,\n",
    "        thread_id=thread_id,\n",
    "        tool_outputs=outpus,\n",
    "    )"
   ]
  },
  {
   "cell_type": "code",
   "execution_count": 8,
   "id": "56921a30",
   "metadata": {},
   "outputs": [
    {
     "name": "stderr",
     "output_type": "stream",
     "text": [
      "C:\\Users\\dtq10\\AppData\\Local\\Temp\\ipykernel_24308\\3435834180.py:2: DeprecationWarning: The Assistants API is deprecated in favor of the Responses API\n",
      "  return client.beta.threads.runs.retrieve(\n"
     ]
    },
    {
     "name": "stdout",
     "output_type": "stream",
     "text": [
      "Calling function: get_ticker with arg {\"company_name\":\"Salesforce\"}\n"
     ]
    },
    {
     "data": {
      "text/plain": [
       "[{'output': \"Get a real-time Salesforce, Inc. (CRM) stock price with an overview of financials, statistics, forecasts, charts and more. ... Ticker Symbol CRM. Website https://www.salesforce.com. Full Company Profile. Financial Performance. In 2024, Salesforce's revenue was $37.90 billion, an increase of 8.72% compared to the previous year's $34.86 billion ... Historical CRM Stock Quote. CRM Stock Chart. follow us on facebook; follow us on twitter; follow us on linkedin; follow us on instagram; follow us on youtube; follow us on tiktok; ... Various trademarks held by their respective owners. Salesforce, Inc. Salesforce Tower, 415 Mission Street, 3rd Floor, San Francisco, CA 94105, United States ... See the latest Salesforce stock price NYSE: CRM stock ratings, related news, valuation, dividends and more to help you make your investing decisions. Shares Outstanding (Ticker) 956.00M. CRM Ownership. Risk. Short Interest. 1.40%. Shares Short. 13.38M. Days to Cover. ... Salesforce, Inc.'s stock symbol is CRM and currently trades under NYSE. It ... Get the latest Salesforce Inc CRM detailed stock quotes, stock data, Real-Time ECN, charts, stats and more. ... Quote Overview. close. ... Enter Symbol. Stock Activity Open 264.70 Day Low 263.40 ...\",\n",
       "  'tool_call_id': 'call_lRDYSVglFi4jLPpl0BjOXF9r'}]"
      ]
     },
     "execution_count": 8,
     "metadata": {},
     "output_type": "execute_result"
    }
   ],
   "source": [
    "get_tool_outputs(run.id, thread.id)"
   ]
  },
  {
   "cell_type": "code",
   "execution_count": 19,
   "id": "835f750b",
   "metadata": {},
   "outputs": [
    {
     "name": "stderr",
     "output_type": "stream",
     "text": [
      "C:\\Users\\dtq10\\AppData\\Local\\Temp\\ipykernel_24308\\3435834180.py:2: DeprecationWarning: The Assistants API is deprecated in favor of the Responses API\n",
      "  return client.beta.threads.runs.retrieve(\n"
     ]
    },
    {
     "name": "stdout",
     "output_type": "stream",
     "text": [
      "Calling function: get_income_statement with arg {\"ticker\": \"CRM\"}\n",
      "Calling function: get_balance_sheet with arg {\"ticker\": \"CRM\"}\n",
      "Calling function: get_daily_stock_performance with arg {\"ticker\": \"CRM\"}\n"
     ]
    },
    {
     "name": "stderr",
     "output_type": "stream",
     "text": [
      "C:\\Users\\dtq10\\AppData\\Local\\Temp\\ipykernel_24308\\3435834180.py:40: DeprecationWarning: The Assistants API is deprecated in favor of the Responses API\n",
      "  return client.beta.threads.runs.submit_tool_outputs(\n"
     ]
    },
    {
     "data": {
      "text/plain": [
       "Run(id='run_OOvvUO143VYKoNer5qTCFbUw', assistant_id='asst_n0oq9SJxSpjOJvh6bouZfmDp', cancelled_at=None, completed_at=None, created_at=1749916433, expires_at=1749917033, failed_at=None, incomplete_details=None, instructions='You help users do research on publicly traded companies and you help users decide if they should buy the stock or not.', last_error=None, max_completion_tokens=None, max_prompt_tokens=None, metadata={}, model='gpt-4-1106-preview', object='thread.run', parallel_tool_calls=True, required_action=None, response_format='auto', started_at=1749916487, status='queued', thread_id='thread_47J7hC8eImg7oaIqyUod8t9Q', tool_choice='auto', tools=[FunctionTool(function=FunctionDefinition(name='get_ticker', description='Given the name of a company returns its ticker symbol', parameters={'type': 'object', 'properties': {'company_name': {'type': 'string', 'description': 'The name of the company'}}, 'required': ['company_name']}, strict=False), type='function'), FunctionTool(function=FunctionDefinition(name='get_income_statement', description=\"Given a ticker symbol (i.e AAPL) returns the company's income statement.\", parameters={'type': 'object', 'properties': {'ticker': {'type': 'string', 'description': 'Ticker symbol of the company'}}, 'required': ['ticker']}, strict=False), type='function'), FunctionTool(function=FunctionDefinition(name='get_balance_sheet', description=\"Given a ticker symbol (i.e AAPL) returns the company's balance sheet.\", parameters={'type': 'object', 'properties': {'ticker': {'type': 'string', 'description': 'Ticker symbol of the company'}}, 'required': ['ticker']}, strict=False), type='function'), FunctionTool(function=FunctionDefinition(name='get_daily_stock_performance', description='Given a ticker symbol (i.e AAPL) returns the performance of the stock for the last 100 days.', parameters={'type': 'object', 'properties': {'ticker': {'type': 'string', 'description': 'Ticker symbol of the company'}}, 'required': ['ticker']}, strict=False), type='function')], truncation_strategy=TruncationStrategy(type='auto', last_messages=None), usage=None, temperature=1.0, top_p=1.0, tool_resources={}, reasoning_effort=None)"
      ]
     },
     "execution_count": 19,
     "metadata": {},
     "output_type": "execute_result"
    }
   ],
   "source": [
    "submit_tool_outputs(run.id, thread.id)"
   ]
  },
  {
   "cell_type": "code",
   "execution_count": 21,
   "id": "3cdf3243",
   "metadata": {},
   "outputs": [
    {
     "name": "stderr",
     "output_type": "stream",
     "text": [
      "C:\\Users\\dtq10\\AppData\\Local\\Temp\\ipykernel_24308\\3435834180.py:2: DeprecationWarning: The Assistants API is deprecated in favor of the Responses API\n",
      "  return client.beta.threads.runs.retrieve(\n"
     ]
    },
    {
     "data": {
      "text/plain": [
       "'completed'"
      ]
     },
     "execution_count": 21,
     "metadata": {},
     "output_type": "execute_result"
    }
   ],
   "source": [
    "get_run(run.id, thread.id).status"
   ]
  },
  {
   "cell_type": "code",
   "execution_count": 22,
   "id": "09c3fc16",
   "metadata": {},
   "outputs": [
    {
     "name": "stderr",
     "output_type": "stream",
     "text": [
      "C:\\Users\\dtq10\\AppData\\Local\\Temp\\ipykernel_24308\\3435834180.py:15: DeprecationWarning: The Assistants API is deprecated in favor of the Responses API\n",
      "  messages = client.beta.threads.messages.list(thread_id=thread_id)\n"
     ]
    },
    {
     "name": "stdout",
     "output_type": "stream",
     "text": [
      "user: I want to know if the Salesforce stock is a good buy\n",
      "assistant: To analyze whether Salesforce (CRM) stock is a good buy, we need to consider its financial data and stock performance. Based on the income statement and balance sheet provided for the last four fiscal year periods, and the daily stock performance over the last 100 days, here's a summary of the key indicators:\n",
      "\n",
      "### Income Statement Highlights\n",
      "- Revenue has been increasing, with the latest total revenue at $37.89 billion.\n",
      "- Net income also showed growth to $6.197 billion in the most recent year.\n",
      "- Research and development, as well as selling, general and administrative expenses, have been significant but consistent with the growth trend.\n",
      "\n",
      "### Balance Sheet Highlights\n",
      "- There is a healthy amount of current assets ($29.73 billion) to cover current liabilities ($27.98 billion), indicating a stable working capital situation.\n",
      "- It has a substantial amount of goodwill on its balance sheet ($51.28 billion), suggesting previous acquisitions, which could impact future earnings if any impairment occurs.\n",
      "- Total equity ($61.17 billion) has been increasing, indicating that the company is financing growth through its operations and equity rather than solely relying on debt.\n",
      "\n",
      "### Stock Performance Highlights\n",
      "- Over the last 100 days, the stock has experienced volatility with several fluctuations but is currently trading significantly lower than its high in this period.\n",
      "- A recent dividend payment indicates that the company returns some of its earnings to shareholders.\n",
      "\n",
      "### Considerations for Investment\n",
      "- The growing revenue and net income are positive signs of the company's growing market reach and business efficacy.\n",
      "- Adequate working capital and increasing total equity suggest a financially sound company.\n",
      "- Active R&D investment indicates future growth and innovation potential.\n",
      "- Market volatility reflected in stock performance underlines the need for a risk appetite consistent with tech sector investments.\n",
      "- The current dip in share price may represent a buying opportunity if one believes in the long-term potential of the company and its market.\n",
      "\n",
      "As per the given data, while Salesforce shows certain positive financial attributes, a decision to buy the stock should be based on a comprehensive investment strategy considering risk tolerance, portfolio diversification, and a long-term view of the company's place in its industry.\n",
      "\n",
      "It's always recommended to consult with a financial advisor to better understand the suitability of this investment for your specific financial goals and situation before making any decisions.\n"
     ]
    }
   ],
   "source": [
    "get_messages(thread.id)"
   ]
  }
 ],
 "metadata": {
  "kernelspec": {
   "display_name": "env",
   "language": "python",
   "name": "python3"
  },
  "language_info": {
   "codemirror_mode": {
    "name": "ipython",
    "version": 3
   },
   "file_extension": ".py",
   "mimetype": "text/x-python",
   "name": "python",
   "nbconvert_exporter": "python",
   "pygments_lexer": "ipython3",
   "version": "3.11.9"
  }
 },
 "nbformat": 4,
 "nbformat_minor": 5
}
